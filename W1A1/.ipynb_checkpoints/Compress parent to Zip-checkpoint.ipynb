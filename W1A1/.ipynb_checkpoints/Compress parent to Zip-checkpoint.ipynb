{
 "cells": [
  {
   "cell_type": "code",
   "execution_count": 8,
   "id": "89f9a09a",
   "metadata": {
    "height": 47
   },
   "outputs": [],
   "source": [
    "import os\n",
    "import pathlib"
   ]
  },
  {
   "cell_type": "code",
   "execution_count": 18,
   "id": "42be22fe",
   "metadata": {
    "height": 829
   },
   "outputs": [],
   "source": [
    "import os\n",
    "import zipfile\n",
    "import os\n",
    "import zipfile\n",
    "\n",
    "def compress_to_single_zip(directory, output_zip):\n",
    "    \"\"\"\n",
    "    Compress all subfolders and their contents in the specified directory into a single ZIP file.\n",
    "\n",
    "    :param directory: Path to the directory containing subfolders.\n",
    "    :param output_zip: Path to the output ZIP file.\n",
    "    \"\"\"\n",
    "    # Ensure the provided directory exists\n",
    "    if not os.path.isdir(directory):\n",
    "        print(f\"Error: {directory} is not a valid directory.\")\n",
    "        return\n",
    "\n",
    "    skipped_files = []\n",
    "\n",
    "    # Create a ZIP file for all subfolders\n",
    "    with zipfile.ZipFile(output_zip, 'w', zipfile.ZIP_DEFLATED) as zipf:\n",
    "        for item in os.listdir(directory):\n",
    "            item_path = os.path.join(directory, item)\n",
    "\n",
    "            # Check if the item is a folder\n",
    "            if os.path.isdir(item_path):\n",
    "                for root, _, files in os.walk(item_path):\n",
    "                    for file in files:\n",
    "                        file_path = os.path.join(root, file)\n",
    "                        arcname = os.path.relpath(file_path, directory)\n",
    "\n",
    "                        # Check file size and skip if larger than 20 MB\n",
    "                        if os.path.getsize(file_path) > 20 * 1024 * 1024:\n",
    "                            skipped_files.append(file_path)\n",
    "                            continue\n",
    "\n",
    "                        zipf.write(file_path, arcname)\n",
    "\n",
    "    # Write skipped files to a log file\n",
    "    if skipped_files:\n",
    "        skipped_log = os.path.join(directory, \"skipped_files.txt\")\n",
    "        with open(skipped_log, \"w\") as log:\n",
    "            log.write(\"Skipped files (larger than 20 MB):\\n\")\n",
    "            for skipped_file in skipped_files:\n",
    "                log.write(f\"{skipped_file}\\n\")\n",
    "        print(f\"List of skipped files saved to {skipped_log}\")\n",
    "\n",
    "    print(f\"Compressed all subfolders in {directory} into {output_zip}\")"
   ]
  },
  {
   "cell_type": "code",
   "execution_count": 19,
   "id": "fbab8f4a",
   "metadata": {
    "height": 47
   },
   "outputs": [],
   "source": [
    "target_directory = \"..\"\n",
    "output_zip_file = 'IntroLlama.zip'"
   ]
  },
  {
   "cell_type": "code",
   "execution_count": null,
   "id": "d9d00b81",
   "metadata": {
    "height": 30
   },
   "outputs": [],
   "source": [
    "compress_to_single_zip(target_directory, output_zip_file)"
   ]
  }
 ],
 "metadata": {
  "kernelspec": {
   "display_name": "Python 3 (ipykernel)",
   "language": "python",
   "name": "python3"
  },
  "language_info": {
   "codemirror_mode": {
    "name": "ipython",
    "version": 3
   },
   "file_extension": ".py",
   "mimetype": "text/x-python",
   "name": "python",
   "nbconvert_exporter": "python",
   "pygments_lexer": "ipython3",
   "version": "3.11.9"
  }
 },
 "nbformat": 4,
 "nbformat_minor": 5
}
